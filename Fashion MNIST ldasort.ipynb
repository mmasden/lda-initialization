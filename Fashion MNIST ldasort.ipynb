{
 "cells": [
  {
   "cell_type": "code",
   "execution_count": 89,
   "metadata": {},
   "outputs": [
    {
     "data": {
      "text/plain": [
       "<module 'ldasort.ldasort' from '/home/kbahnsen/Development/Marissa/ldasort/ldasort/ldasort.py'>"
      ]
     },
     "execution_count": 89,
     "metadata": {},
     "output_type": "execute_result"
    }
   ],
   "source": [
    "#Import Custom Tools\n",
    "import ldasort.ldasort as ldasort\n",
    "\n",
    "## Import Standard Data Processing Tools\n",
    "import numpy as np\n",
    "import matplotlib.pyplot as plt\n",
    "from timeit import default_timer as timer\n",
    "\n",
    "#import ML tools\n",
    "import tensorflow as tf\n",
    "from tensorflow import keras\n",
    "\n",
    "from importlib import reload\n",
    "reload(ldasort)"
   ]
  },
  {
   "cell_type": "code",
   "execution_count": 90,
   "metadata": {},
   "outputs": [],
   "source": [
    "#LOAD Fashion MNIST\n",
    "from tensorflow.keras.datasets import fashion_mnist\n",
    "\n",
    "data_set = \"FashionMNIST\" \n",
    "\n",
    "(x_train, y_train), (x_test, y_test) = fashion_mnist.load_data()\n",
    "\n",
    "#normalize\n",
    "x_train_normalized = (x_train - np.mean(x_train))/np.std(x_train) \n",
    "x_test_normalized = (x_test - np.mean(x_train))/np.std(x_train)\n",
    "\n",
    "#flatten and reshape\n",
    "x_train_normalized = x_train_normalized.reshape(60000,28*28)\n",
    "x_test_normalized = x_test_normalized.reshape(10000,28*28)\n",
    "y_train=np.array(y_train)\n"
   ]
  },
  {
   "cell_type": "code",
   "execution_count": 91,
   "metadata": {},
   "outputs": [
    {
     "name": "stdout",
     "output_type": "stream",
     "text": [
      "Label 0 sorted\n",
      "Label 1 sorted\n",
      "Label 2 sorted\n",
      "Label 3 sorted\n",
      "Label 4 sorted\n",
      "Label 5 sorted\n",
      "Label 6 sorted\n",
      "Label 7 sorted\n",
      "Label 8 sorted\n",
      "Label 9 sorted\n"
     ]
    }
   ],
   "source": [
    "# Find weights and biases using LDA sorting algorithm. \n",
    "# Comment out if weights already present. \n",
    "\n",
    "weights, biases = ldasort.ldasort(x_train_normalized, y_train, verbose=True)"
   ]
  },
  {
   "cell_type": "code",
   "execution_count": 92,
   "metadata": {},
   "outputs": [
    {
     "name": "stdout",
     "output_type": "stream",
     "text": [
      "28\n"
     ]
    }
   ],
   "source": [
    "print(len(weights))"
   ]
  },
  {
   "cell_type": "code",
   "execution_count": 93,
   "metadata": {},
   "outputs": [],
   "source": [
    "# Save weights and biases for use later. \n",
    "\n",
    "np.savez(\"Sorted_Weights_{}\".format(data_set), weights=weights, biases=biases)"
   ]
  },
  {
   "cell_type": "code",
   "execution_count": 94,
   "metadata": {},
   "outputs": [],
   "source": [
    "# Load to run trials \n",
    "\n",
    "file = np.load(\"Sorted_Weights_{}.npz\".format(data_set))\n",
    "\n",
    "weights = file[\"weights\"]\n",
    "biases = file[\"biases\"]"
   ]
  },
  {
   "cell_type": "code",
   "execution_count": 95,
   "metadata": {},
   "outputs": [
    {
     "name": "stdout",
     "output_type": "stream",
     "text": [
      "Trial with Batch Size 25 Learning Rate 0.001 Done, time elapsed 2.0 minutes\n",
      "Trial with Batch Size 25 Learning Rate 0.005 Done, time elapsed 4.0 minutes\n",
      "Trial with Batch Size 25 Learning Rate 0.01 Done, time elapsed 5.0 minutes\n",
      "Trial with Batch Size 100 Learning Rate 0.001 Done, time elapsed 6.0 minutes\n",
      "Trial with Batch Size 100 Learning Rate 0.005 Done, time elapsed 6.0 minutes\n",
      "Trial with Batch Size 100 Learning Rate 0.01 Done, time elapsed 7.0 minutes\n",
      "Trial with Batch Size 500 Learning Rate 0.001 Done, time elapsed 7.0 minutes\n",
      "Trial with Batch Size 500 Learning Rate 0.005 Done, time elapsed 7.0 minutes\n",
      "Trial with Batch Size 500 Learning Rate 0.01 Done, time elapsed 8.0 minutes\n"
     ]
    }
   ],
   "source": [
    "### create loop for comparing across batch sizes, learning rates\n",
    "\n",
    "learning_rates = [.001, .005, .01]\n",
    "batch_sizes = [25, 100, 500]\n",
    "\n",
    "#small values for quick sample run. For full length runs, use n_trials=20, n_epochs=100\n",
    "n_trials = 5\n",
    "n_epochs = 5\n",
    "\n",
    "t0=timer()\n",
    "\n",
    "for batch_size in batch_sizes:\n",
    "    for lr in learning_rates:\n",
    "\n",
    "        temp_hists=[]\n",
    "        val_hists=[]\n",
    "\n",
    "        for trial in range(n_trials):\n",
    "\n",
    "            #set up LDA-initialized model\n",
    "            \n",
    "            model=ldasort.setup(intermediate_neurons=len(weights),input_shape=784, output_shape=10)\n",
    "\n",
    "            model.compile(\n",
    "                    optimizer=keras.optimizers.SGD(learning_rate=lr),\n",
    "                    loss='sparse_categorical_crossentropy',\n",
    "                    metrics=['accuracy'],\n",
    "                    weighted_metrics=['accuracy']\n",
    "                    )\n",
    "\n",
    "            model.layers[0].set_weights([weights.T,biases])\n",
    "        \n",
    "\n",
    "            history=model.fit(x_train_normalized, \n",
    "                      y_train, \n",
    "                      epochs=n_epochs, \n",
    "                      batch_size=batch_size,\n",
    "                      validation_data = (x_test_normalized, y_test),\n",
    "                      verbose=False)\n",
    "\n",
    "            temp_hists.append(history.history['accuracy'])\n",
    "            val_hists.append(history.history[\"val_accuracy\"])\n",
    "\n",
    "\n",
    "            keras.backend.clear_session()\n",
    "\n",
    "        lda_hist = temp_hists\n",
    "        val_lda_hist=val_hists\n",
    "\n",
    "\n",
    "        #######################################\n",
    "        #Run Trials with Random Initialization#\n",
    "        #######################################\n",
    "        temp_hists=[]\n",
    "        val_hists=[]\n",
    "\n",
    "        for trial in range(n_trials):\n",
    "\n",
    "            #set up randomly-initialized model\n",
    "            \n",
    "            model=ldasort.setup(intermediate_neurons=len(weights),input_shape=784, output_shape=10)\n",
    "\n",
    "            model.compile(\n",
    "                    optimizer=keras.optimizers.SGD(learning_rate=lr),\n",
    "                    loss='sparse_categorical_crossentropy',\n",
    "                    metrics=['accuracy'],\n",
    "                    weighted_metrics=['accuracy']\n",
    "                    )\n",
    "            \n",
    "            #do not set weights\n",
    "            #model.layers[0].set_weights([weights.T,biases])\n",
    "            \n",
    "\n",
    "\n",
    "            history=model.fit(x_train_normalized, \n",
    "                      y_train, \n",
    "                      epochs=n_epochs, \n",
    "                      batch_size=batch_size,\n",
    "                      validation_data = (x_test_normalized, y_test),\n",
    "                      verbose=False)\n",
    "\n",
    "            temp_hists.append(history.history['accuracy'])\n",
    "            val_hists.append(history.history[\"val_accuracy\"])\n",
    "            \n",
    "\n",
    "            keras.backend.clear_session()\n",
    "\n",
    "        rand_hist = temp_hists\n",
    "        val_rand_hist=val_hists\n",
    "        \n",
    "\n",
    "        np.savez(\"{}_sigmoid_lr{}_bat{}\".format(data_set, lr,batch_size), \n",
    "                 lda_acc=lda_hist, \n",
    "                 val_lda_acc=val_lda_hist,\n",
    "                 rand_acc = rand_hist, \n",
    "                 val_rand_acc = val_rand_hist,\n",
    "                 n_components=len(weights), \n",
    "                num_trials=n_trials,\n",
    "                n_epochs = n_epochs)\n",
    "        \n",
    "        \n",
    "        print(\"Trial with Batch Size {} Learning Rate {} Done, time elapsed {} minutes\".format(\n",
    "            batch_size, lr, np.round((timer()-t0)/60),3))\n",
    "\n"
   ]
  },
  {
   "cell_type": "code",
   "execution_count": 96,
   "metadata": {},
   "outputs": [],
   "source": [
    "# Construct plots. \n",
    "\n",
    "plt.rcParams.update(plt.rcParamsDefault)\n",
    "\n",
    "data = dict()\n",
    "\n",
    "for batch_size in batch_sizes:\n",
    "    for lr in learning_rates:\n",
    "        data[(batch_size, lr)]=np.load(\"{}_sigmoid_lr{}_bat{}.npz\".format(data_set, lr, batch_size))\n",
    "        \n",
    "        fig,ax=plt.subplots()\n",
    "        \n",
    "\n",
    "        for randplot,ldaplot in zip(data[(batch_size, lr)][\"val_rand_acc\"],data[(batch_size, lr)][\"val_lda_acc\"]): #j is random h is preset \n",
    "            ax.plot(ldaplot,c='red',alpha=.1)\n",
    "            ax.plot(randplot,c='blue',alpha=.1)\n",
    "\n",
    "\n",
    "        #ax.plot([threshold]*nepochs,c='k',alpha=.2)\n",
    "        ax.set_ylim((0,1))\n",
    "        ax.set_title(\"FashionMNIST Sigmoid \\n lr {}, batch size {}\".format(lr, batch_size))      \n",
    "        ax.legend([\"LDA Sorted\",\"Random\"])\n",
    "        plt.savefig(\"imgs/fashionmnist_lr{}_bat{}.png\".format(lr,batch_size))\n"
   ]
  }
 ],
 "metadata": {
  "kernelspec": {
   "display_name": "Python 3",
   "language": "python",
   "name": "python3"
  },
  "language_info": {
   "codemirror_mode": {
    "name": "ipython",
    "version": 3
   },
   "file_extension": ".py",
   "mimetype": "text/x-python",
   "name": "python",
   "nbconvert_exporter": "python",
   "pygments_lexer": "ipython3",
   "version": "3.8.10"
  }
 },
 "nbformat": 4,
 "nbformat_minor": 4
}
